{
  "nbformat": 4,
  "nbformat_minor": 0,
  "metadata": {
    "colab": {
      "provenance": []
    },
    "kernelspec": {
      "name": "python3",
      "display_name": "Python 3"
    },
    "language_info": {
      "name": "python"
    }
  },
  "cells": [
    {
      "cell_type": "code",
      "execution_count": null,
      "metadata": {
        "id": "lSmLwiU_RkPi"
      },
      "outputs": [],
      "source": [
        "# Data is taken from Manhattan Chocolate Society website: http://flavorsofcacao.com/chocolate_database.html which is last updated on June 26,2022. \n",
        "# Column included in data \n",
        "# 1.Company (Manufacturer)\t2.Company Location\t3.Review Date\t4.Country of Bean Origin\t5.Specific Bean Origin or Bar Name\t\n",
        "# 6.Cocoa Percent\t7.Ingredients\tMost Memorable Characteristics\t8.Rating\n",
        "\n",
        "import pandas as pd\n",
        "html = 'https://flavorsofcacao.com/database_w_REF.html'\n",
        "csv = 'my_file.csv'\n",
        "# 1. Read the HTML table from a given URL\n",
        "tables = pd.read_html(html)\n",
        "\n",
        "# 2. Write first table to the CSV file\n",
        "tables[0].to_csv(csv)"
      ]
    }
  ]
}